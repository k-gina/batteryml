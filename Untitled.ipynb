{
 "cells": [
  {
   "cell_type": "code",
   "execution_count": 1,
   "id": "35aa38d4",
   "metadata": {},
   "outputs": [],
   "source": [
    "import os"
   ]
  },
  {
   "cell_type": "code",
   "execution_count": 2,
   "id": "461f6aef",
   "metadata": {},
   "outputs": [
    {
     "data": {
      "text/plain": [
       "'C:\\\\Users\\\\KIMGI\\\\OneDrive - Nissan Motor Corporation\\\\Documents\\\\GitHub\\\\batteryml'"
      ]
     },
     "execution_count": 2,
     "metadata": {},
     "output_type": "execute_result"
    }
   ],
   "source": [
    "os.getcwd()"
   ]
  },
  {
   "cell_type": "code",
   "execution_count": 3,
   "id": "76867405",
   "metadata": {},
   "outputs": [
    {
     "name": "stderr",
     "output_type": "stream",
     "text": [
      "\n",
      "  0%|          | 0/8 [00:00<?, ?it/s]\n",
      "Processing dataset MATR:   0%|          | 0/8 [00:00<?, ?it/s]\n",
      "Processing dataset MATR:  50%|#####     | 4/8 [00:00<00:00, 17.54it/s]\n",
      "Traceback (most recent call last):\n",
      "  File \"C:\\Users\\KIMGI\\OneDrive - Nissan Motor Corporation\\Documents\\GitHub\\batteryml\\scripts\\preprocess.py\", line 90, in <module>\n",
      "    convert_data_format()\n",
      "  File \"C:\\Users\\KIMGI\\OneDrive - Nissan Motor Corporation\\Documents\\GitHub\\batteryml\\scripts\\preprocess.py\", line 78, in convert_data_format\n",
      "    preprocess = import_function(script_path / f'preprocess_{dataset}.py')\n",
      "  File \"C:\\Users\\KIMGI\\OneDrive - Nissan Motor Corporation\\Documents\\GitHub\\batteryml\\scripts\\preprocess.py\", line 25, in import_function\n",
      "    spec.loader.exec_module(module)\n",
      "  File \"<frozen importlib._bootstrap_external>\", line 850, in exec_module\n",
      "  File \"<frozen importlib._bootstrap>\", line 228, in _call_with_frames_removed\n",
      "  File \"C:\\Users\\KIMGI\\OneDrive - Nissan Motor Corporation\\Documents\\GitHub\\batteryml\\scripts\\preprocess_scripts\\preprocess_MATR.py\", line 11, in <module>\n",
      "    from src import BatteryData, CycleData, CyclingProtocol\n",
      "ModuleNotFoundError: No module named 'src'\n"
     ]
    }
   ],
   "source": [
    "! python scripts/preprocess.py"
   ]
  },
  {
   "cell_type": "code",
   "execution_count": null,
   "id": "a3e9ff65",
   "metadata": {},
   "outputs": [],
   "source": []
  }
 ],
 "metadata": {
  "kernelspec": {
   "display_name": "Python 3 (ipykernel)",
   "language": "python",
   "name": "python3"
  },
  "language_info": {
   "codemirror_mode": {
    "name": "ipython",
    "version": 3
   },
   "file_extension": ".py",
   "mimetype": "text/x-python",
   "name": "python",
   "nbconvert_exporter": "python",
   "pygments_lexer": "ipython3",
   "version": "3.9.13"
  }
 },
 "nbformat": 4,
 "nbformat_minor": 5
}
